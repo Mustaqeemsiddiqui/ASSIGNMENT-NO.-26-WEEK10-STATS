{
 "cells": [
  {
   "cell_type": "markdown",
   "id": "601d6604-5940-4958-bfa8-10cdf0449aed",
   "metadata": {},
   "source": [
    "**Q1. What are the three measures of central tendency?**"
   ]
  },
  {
   "cell_type": "markdown",
   "id": "ed387c16-365a-40f6-a177-1da5fad4d8b5",
   "metadata": {},
   "source": [
    "**ANSWER**:--\n",
    "\n",
    "The three measures of central tendency are:\n",
    "\n",
    "1. **Mean**: The arithmetic average of a set of values. It is calculated by adding all the values together and then dividing by the number of values. The mean is sensitive to outliers.\n",
    "\n",
    "2. **Median**: The middle value in a set of values when they are arranged in ascending or descending order. If there is an even number of values, the median is the average of the two middle values. The median is less sensitive to outliers compared to the mean.\n",
    "\n",
    "3. **Mode**: The value that occurs most frequently in a set of values. A set of values can have one mode, more than one mode, or no mode at all if no value repeats. The mode is particularly useful for categorical data where we want to know the most common category."
   ]
  },
  {
   "cell_type": "markdown",
   "id": "0ab631e7-2808-40d3-8652-166cdb250273",
   "metadata": {},
   "source": [
    "**Q2. What is the difference between the mean, median, and mode? How are they used to measure the\n",
    "central tendency of a dataset?**"
   ]
  },
  {
   "cell_type": "markdown",
   "id": "d46902f9-14e4-43a6-b65f-d35e28759d81",
   "metadata": {},
   "source": [
    "**ANSWER**:---\n",
    "\n",
    "The mean, median, and mode are all measures of central tendency, but they each provide different insights into a dataset's distribution. Here's a closer look at their differences and how they are used:\n",
    "\n",
    "1. **Mean (Arithmetic Average)**:\n",
    "   - **Calculation**: Sum of all values divided by the number of values.\n",
    "   - **Example**: For the dataset \\([2, 4, 6, 8, 10]\\), the mean is \\((2 + 4 + 6 + 8 + 10) / 5 = 6\\).\n",
    "   - **Usage**: The mean is used when you want to consider all values in the dataset. It is suitable for interval and ratio data where the values are evenly distributed without extreme outliers.\n",
    "   - **Sensitivity**: The mean is sensitive to outliers, which can skew the average.\n",
    "\n",
    "2. **Median**:\n",
    "   - **Calculation**: The middle value when the dataset is ordered. If the number of values is even, the median is the average of the two middle values.\n",
    "   - **Example**: For the dataset \\([2, 4, 6, 8, 10]\\), the median is \\(6\\). For the dataset \\([2, 4, 6, 8]\\), the median is \\((4 + 6) / 2 = 5\\).\n",
    "   - **Usage**: The median is useful when the dataset has outliers or is skewed, as it provides a better central value that is not affected by extreme values. It is suitable for ordinal, interval, and ratio data.\n",
    "   - **Sensitivity**: The median is not sensitive to outliers.\n",
    "\n",
    "3. **Mode**:\n",
    "   - **Calculation**: The value that appears most frequently in the dataset.\n",
    "   - **Example**: For the dataset \\([2, 4, 4, 6, 8]\\), the mode is \\(4\\). For the dataset \\([2, 4, 6, 8, 10]\\), there is no mode since no value repeats.\n",
    "   - **Usage**: The mode is particularly useful for categorical data to identify the most common category or value. It can also be used for nominal, ordinal, interval, and ratio data.\n",
    "   - **Sensitivity**: The mode is not influenced by the presence of outliers, but it may not provide a measure of central tendency if all values are unique or there are multiple modes.\n"
   ]
  },
  {
   "cell_type": "markdown",
   "id": "ec551690-2839-45ff-a9d0-63454cf28b30",
   "metadata": {},
   "source": [
    "**Q3. Measure the three measures of central tendency for the given height data:\n",
    "[178,177,176,177,178.2,178,175,179,180,175,178.9,176.2,177,172.5,178,176.5]**"
   ]
  },
  {
   "cell_type": "markdown",
   "id": "7b7cd2c7-ba7c-4ee8-b4b8-ae3641670c2a",
   "metadata": {},
   "source": [
    "**ANSWER**:--\n",
    "\n",
    "\n",
    "For the given height data \\([178, 177, 176, 177, 178.2, 178, 175, 179, 180, 175, 178.9, 176.2, 177, 172.5, 178, 176.5]\\):\n",
    "\n",
    "- **Mean (Arithmetic Average)**: 177.01875\n",
    "- **Median (Middle Value)**: 177.0\n",
    "- **Mode (Most Frequent Value)**: 177.0\n",
    "\n",
    "Here ,i have done with code"
   ]
  },
  {
   "cell_type": "code",
   "execution_count": 2,
   "id": "cabe296b-afd3-4f66-a10e-00a7e08c4420",
   "metadata": {},
   "outputs": [],
   "source": [
    "l=(178,177,176,177,178.2,178,175,179,180,175,178.9,176.2,177,172.5,178,176.5)"
   ]
  },
  {
   "cell_type": "code",
   "execution_count": 1,
   "id": "d9c61fda-62ab-4df9-afe2-d3747f7369e7",
   "metadata": {},
   "outputs": [],
   "source": [
    "import numpy as np\n",
    "from scipy import stats\n"
   ]
  },
  {
   "cell_type": "code",
   "execution_count": 3,
   "id": "20c4942d-7e54-4497-8bda-40dd9f0a0714",
   "metadata": {},
   "outputs": [
    {
     "data": {
      "text/plain": [
       "177.01875"
      ]
     },
     "execution_count": 3,
     "metadata": {},
     "output_type": "execute_result"
    }
   ],
   "source": [
    "np.mean(l)"
   ]
  },
  {
   "cell_type": "code",
   "execution_count": 4,
   "id": "538828c8-b01e-4620-aab2-a06e1bbc23a7",
   "metadata": {},
   "outputs": [
    {
     "data": {
      "text/plain": [
       "177.0"
      ]
     },
     "execution_count": 4,
     "metadata": {},
     "output_type": "execute_result"
    }
   ],
   "source": [
    "np.median(l)"
   ]
  },
  {
   "cell_type": "code",
   "execution_count": 5,
   "id": "7ce6d707-2328-4de4-98ad-66096a787ad5",
   "metadata": {},
   "outputs": [
    {
     "name": "stderr",
     "output_type": "stream",
     "text": [
      "/tmp/ipykernel_105/2919890712.py:1: FutureWarning: Unlike other reduction functions (e.g. `skew`, `kurtosis`), the default behavior of `mode` typically preserves the axis it acts along. In SciPy 1.11.0, this behavior will change: the default value of `keepdims` will become False, the `axis` over which the statistic is taken will be eliminated, and the value None will no longer be accepted. Set `keepdims` to True or False to avoid this warning.\n",
      "  stats.mode(l)\n"
     ]
    },
    {
     "data": {
      "text/plain": [
       "ModeResult(mode=array([177.]), count=array([3]))"
      ]
     },
     "execution_count": 5,
     "metadata": {},
     "output_type": "execute_result"
    }
   ],
   "source": [
    "stats.mode(l)"
   ]
  },
  {
   "cell_type": "markdown",
   "id": "af5c28fe-f088-4d39-b6cd-a23f107e1a64",
   "metadata": {},
   "source": [
    "**Q4. Find the standard deviation for the given data:\n",
    "[178,177,176,177,178.2,178,175,179,180,175,178.9,176.2,177,172.5,178,176.5]**"
   ]
  },
  {
   "cell_type": "code",
   "execution_count": 8,
   "id": "58278e7c-f67a-4aee-830e-7d63c7a35e2f",
   "metadata": {},
   "outputs": [],
   "source": [
    "l=(178,177,176,177,178.2,178,175,179,180,175,178.9,176.2,177,172.5,178,176.5)"
   ]
  },
  {
   "cell_type": "code",
   "execution_count": 9,
   "id": "1d974e72-ab49-408a-9f78-174b9d72fb92",
   "metadata": {},
   "outputs": [
    {
     "data": {
      "text/plain": [
       "1.7885814036548633"
      ]
     },
     "execution_count": 9,
     "metadata": {},
     "output_type": "execute_result"
    }
   ],
   "source": [
    "np.std(l)"
   ]
  },
  {
   "cell_type": "markdown",
   "id": "a227dfda-b52a-4d23-b77e-2d66790c6904",
   "metadata": {},
   "source": [
    "**Q5. How are measures of dispersion such as range, variance, and standard deviation used to describe\n",
    "the spread of a dataset? Provide an example.**"
   ]
  },
  {
   "cell_type": "markdown",
   "id": "ead66813-33d5-4fa1-b26e-14c41d829684",
   "metadata": {},
   "source": [
    "**ANSWER**:---\n",
    "\n",
    "Measures of dispersion such as range, variance, and standard deviation are used to describe the spread of a dataset by quantifying how much the data values differ from each other and from the central tendency (mean or median). These measures provide insights into the variability, consistency, and predictability of the data.\n",
    "\n",
    "### 1. Range\n",
    "The range is the simplest measure of dispersion and is calculated as the difference between the maximum and minimum values in the dataset.\n",
    "- **Formula**: \\( \\text{Range} = \\text{Maximum value} - \\text{Minimum value} \\)\n",
    "- **Example**: For the dataset \\([4, 8, 6, 5, 3, 7]\\), the range is \\(8 - 3 = 5\\).\n",
    "\n",
    "### 2. Variance\n",
    "Variance measures the average squared deviation of each data point from the mean. It gives a sense of how much the values spread out around the mean.\n",
    "- **Formula**: \\( \\text{Variance} (\\sigma^2) = \\frac{\\sum (x_i - \\mu)^2}{N} \\), where \\(x_i\\) are the data points, \\(\\mu\\) is the mean, and \\(N\\) is the number of data points.\n",
    "- **Example**: For the dataset \\([4, 8, 6, 5, 3, 7]\\), calculate the mean (\\(\\mu = 5.5\\)), then calculate the squared deviations and their average:\n",
    "  \\[\n",
    "  \\sigma^2 = \\frac{(4-5.5)^2 + (8-5.5)^2 + (6-5.5)^2 + (5-5.5)^2 + (3-5.5)^2 + (7-5.5)^2}{6} = \\frac{2.25 + 6.25 + 0.25 + 0.25 + 6.25 + 2.25}{6} = 2.58\n",
    "  \\]\n",
    "\n",
    "### 3. Standard Deviation\n",
    "The standard deviation is the square root of the variance. It is expressed in the same units as the data, making it easier to interpret. It indicates how much the values typically deviate from the mean.\n",
    "- **Formula**: \\( \\text{Standard Deviation} (\\sigma) = \\sqrt{\\text{Variance}} \\)\n",
    "- **Example**: Using the variance calculated above (\\(2.58\\)), the standard deviation is \\( \\sigma = \\sqrt{2.58} \\approx 1.61 \\).\n",
    "\n",
    "\n"
   ]
  },
  {
   "cell_type": "code",
   "execution_count": 10,
   "id": "13faa5c7-78f3-4bd4-9377-af1b72c2af20",
   "metadata": {},
   "outputs": [
    {
     "name": "stdout",
     "output_type": "stream",
     "text": [
      "Range: 7.5\n"
     ]
    }
   ],
   "source": [
    "range_=np.ptp(l)\n",
    "print(\"Range:\",range_)"
   ]
  },
  {
   "cell_type": "code",
   "execution_count": 11,
   "id": "d1444dfe-eba5-4e8a-9fef-aed989a5e255",
   "metadata": {},
   "outputs": [
    {
     "name": "stdout",
     "output_type": "stream",
     "text": [
      "Variance: 3.199023437500001\n"
     ]
    }
   ],
   "source": [
    "variance_= np.var(l)\n",
    "print(\"Variance:\", variance_)\n"
   ]
  },
  {
   "cell_type": "code",
   "execution_count": 12,
   "id": "40f01285-7f4e-4900-85ea-1f0f6bb6ded1",
   "metadata": {},
   "outputs": [
    {
     "name": "stdout",
     "output_type": "stream",
     "text": [
      "Standard Deviation: 1.7885814036548633\n"
     ]
    }
   ],
   "source": [
    "std_dev_ = np.std(l)\n",
    "print(\"Standard Deviation:\", std_dev_)"
   ]
  },
  {
   "cell_type": "markdown",
   "id": "cf5f7040-6dbe-49fd-a0f6-52298296ba2d",
   "metadata": {},
   "source": [
    "**Q6. What is a Venn diagram?**"
   ]
  },
  {
   "cell_type": "markdown",
   "id": "2becf465-c4cf-4903-97f8-89d25f8491e8",
   "metadata": {},
   "source": [
    "**ANSWER**:---\n",
    "\n",
    "A Venn diagram is a visual representation used to illustrate the relationships between different sets. It consists of overlapping circles, each representing a set, with the overlapping regions indicating the elements that are common to the sets.\n"
   ]
  },
  {
   "cell_type": "code",
   "execution_count": 14,
   "id": "232c6cce-1978-487b-84d9-57301dcc8052",
   "metadata": {},
   "outputs": [
    {
     "name": "stdout",
     "output_type": "stream",
     "text": [
      "Collecting matplotlib_venn\n",
      "  Downloading matplotlib_venn-0.11.10-py3-none-any.whl (33 kB)\n",
      "Requirement already satisfied: numpy in /opt/conda/lib/python3.10/site-packages (from matplotlib_venn) (1.23.5)\n",
      "Requirement already satisfied: scipy in /opt/conda/lib/python3.10/site-packages (from matplotlib_venn) (1.9.3)\n",
      "Requirement already satisfied: matplotlib in /opt/conda/lib/python3.10/site-packages (from matplotlib_venn) (3.6.2)\n",
      "Requirement already satisfied: packaging>=20.0 in /opt/conda/lib/python3.10/site-packages (from matplotlib->matplotlib_venn) (22.0)\n",
      "Requirement already satisfied: pyparsing>=2.2.1 in /opt/conda/lib/python3.10/site-packages (from matplotlib->matplotlib_venn) (3.0.9)\n",
      "Requirement already satisfied: pillow>=6.2.0 in /opt/conda/lib/python3.10/site-packages (from matplotlib->matplotlib_venn) (9.2.0)\n",
      "Requirement already satisfied: cycler>=0.10 in /opt/conda/lib/python3.10/site-packages (from matplotlib->matplotlib_venn) (0.11.0)\n",
      "Requirement already satisfied: fonttools>=4.22.0 in /opt/conda/lib/python3.10/site-packages (from matplotlib->matplotlib_venn) (4.38.0)\n",
      "Requirement already satisfied: python-dateutil>=2.7 in /opt/conda/lib/python3.10/site-packages (from matplotlib->matplotlib_venn) (2.8.2)\n",
      "Requirement already satisfied: kiwisolver>=1.0.1 in /opt/conda/lib/python3.10/site-packages (from matplotlib->matplotlib_venn) (1.4.4)\n",
      "Requirement already satisfied: contourpy>=1.0.1 in /opt/conda/lib/python3.10/site-packages (from matplotlib->matplotlib_venn) (1.0.6)\n",
      "Requirement already satisfied: six>=1.5 in /opt/conda/lib/python3.10/site-packages (from python-dateutil>=2.7->matplotlib->matplotlib_venn) (1.16.0)\n",
      "Installing collected packages: matplotlib_venn\n",
      "Successfully installed matplotlib_venn-0.11.10\n",
      "Note: you may need to restart the kernel to use updated packages.\n"
     ]
    }
   ],
   "source": [
    "pip install matplotlib_venn"
   ]
  },
  {
   "cell_type": "code",
   "execution_count": 1,
   "id": "e863e439-3f81-44ba-b6c2-4e060cf0637d",
   "metadata": {},
   "outputs": [
    {
     "data": {
      "image/png": "[encoded data removed]",
      "text/plain": [
       "<Figure size 640x480 with 1 Axes>"
      ]
     },
     "metadata": {},
     "output_type": "display_data"
    }
   ],
   "source": [
    "\n",
    "import matplotlib.pyplot as plt\n",
    "from matplotlib_venn import venn2\n",
    "set_A = {1, 2, 3, 4}\n",
    "set_B = {3, 4, 5, 6}\n",
    "venn2([set_A, set_B], ('Set A', 'Set B'))\n",
    "plt.show()\n"
   ]
  },
  {
   "cell_type": "markdown",
   "id": "150b1d22-70ca-49e2-b6ec-e7348ded26b4",
   "metadata": {},
   "source": [
    "**Q7. For the two given sets A = (2,3,4,5,6,7) & B = (0,2,6,8,10). Find:\n",
    "(i) A B\n",
    "(ii) A ⋃ B**"
   ]
  },
  {
   "cell_type": "markdown",
   "id": "841e1681-2fdc-4275-8515-41fbb1f543fd",
   "metadata": {},
   "source": [
    "**ANSWER**:---\n",
    "Intersection (A ∩ B): {2,6}\n",
    "\n",
    "Union (A ⋃ B): {0,2,3,4,5,6,7,8,10}"
   ]
  },
  {
   "cell_type": "markdown",
   "id": "14e8dced-25fd-4838-bf06-f5bed98a96ea",
   "metadata": {},
   "source": [
    "**ANSWER**:---\n",
    "Intersection (A ∩ B): {2,6}\n",
    "Union (A ⋃ B): {0,2,3,4,5,6,7,8,10}"
   ]
  },
  {
   "cell_type": "code",
   "execution_count": 5,
   "id": "6a4c0d91-4c28-4705-975d-8663d91c59dd",
   "metadata": {},
   "outputs": [],
   "source": [
    "A = {2,3,4,5,6,7}\n",
    "B = {0,2,6,8,10}\n",
    "intersection=A.intersection(B)\n",
    "union=A.union(B)"
   ]
  },
  {
   "cell_type": "code",
   "execution_count": 6,
   "id": "bb0cda92-c56d-4f3f-8254-409be1e51d68",
   "metadata": {},
   "outputs": [
    {
     "data": {
      "text/plain": [
       "{2, 6}"
      ]
     },
     "execution_count": 6,
     "metadata": {},
     "output_type": "execute_result"
    }
   ],
   "source": [
    "intersection"
   ]
  },
  {
   "cell_type": "code",
   "execution_count": 8,
   "id": "282816ad-e1ad-4da9-bf35-3d48fa8def9d",
   "metadata": {},
   "outputs": [
    {
     "data": {
      "text/plain": [
       "{0, 2, 3, 4, 5, 6, 7, 8, 10}"
      ]
     },
     "execution_count": 8,
     "metadata": {},
     "output_type": "execute_result"
    }
   ],
   "source": [
    "union"
   ]
  },
  {
   "cell_type": "markdown",
   "id": "d0020e20-8488-4f2c-ae4c-00205f023bcc",
   "metadata": {},
   "source": [
    "**Q8. What do you understand about skewness in data?**"
   ]
  },
  {
   "cell_type": "markdown",
   "id": "dfc555d0-227e-43f7-a25a-6d9a81e553cd",
   "metadata": {},
   "source": [
    "**ANSWER**:---\n",
    "\n",
    "Skewness in data refers to the asymmetry or lack of symmetry in the distribution of values. It indicates the extent to which the distribution deviates from a normal distribution, which is symmetric. Skewness can be positive, negative, or zero, and it provides insights into the shape of the data distribution.\n",
    "\n",
    "### Types of Skewness:\n",
    "\n",
    "1. **Positive Skewness (Right Skewness)**:\n",
    "   - **Description**: The right tail (higher values) is longer or fatter than the left tail (lower values).\n",
    "   - **Implication**: Most data values are concentrated on the left, with a few large values stretching the distribution to the right.\n",
    "   - **Mean, Median, and Mode Relationship**: Mean > Median > Mode.\n",
    "\n",
    "2. **Negative Skewness (Left Skewness)**:\n",
    "   - **Description**: The left tail (lower values) is longer or fatter than the right tail (higher values).\n",
    "   - **Implication**: Most data values are concentrated on the right, with a few small values stretching the distribution to the left.\n",
    "   - **Mean, Median, and Mode Relationship**: Mean < Median < Mode.\n",
    "\n",
    "3. **Zero Skewness (Symmetric Distribution)**:\n",
    "   - **Description**: The distribution is symmetric, meaning the left and right tails are mirror images of each other.\n",
    "   - **Implication**: The data values are evenly distributed around the central value.\n",
    "   - **Mean, Median, and Mode Relationship**: Mean = Median = Mode.\n",
    "\n",
    "### Measuring Skewness:\n",
    "Skewness can be quantified using a skewness coefficient, which can be calculated using statistical formulas. A common formula is:\n",
    "\n",
    "\\[ \\text{Skewness} = \\frac{n}{(n-1)(n-2)} \\sum \\left( \\frac{x_i - \\bar{x}}{s} \\right)^3 \\]\n",
    "\n",
    "where \\( n \\) is the number of observations, \\( x_i \\) is each individual observation, \\( \\bar{x} \\) is the mean of the data, and \\( s \\) is the standard deviation.\n",
    "\n",
    "### Interpretation of Skewness Values:\n",
    "- **Skewness ≈ 0**: The data is fairly symmetrical.\n",
    "- **Skewness > 0**: The data is positively skewed (right skewed).\n",
    "- **Skewness < 0**: The data is negatively skewed (left skewed).\n",
    "\n",
    "### Example:\n",
    "Consider the following datasets:\n",
    "- Dataset A: [1, 2, 3, 4, 5] (Symmetrical distribution)\n",
    "- Dataset B: [1, 2, 2, 3, 10] (Positively skewed)\n",
    "- Dataset C: [1, 5, 5, 6, 7] (Negatively skewed)\n",
    "\n"
   ]
  },
  {
   "cell_type": "code",
   "execution_count": 9,
   "id": "517582a7-1897-4064-a352-16a1f3597a32",
   "metadata": {},
   "outputs": [
    {
     "data": {
      "text/plain": [
       "(0.0, 1.3608927294433224, -1.00132372844592)"
      ]
     },
     "execution_count": 9,
     "metadata": {},
     "output_type": "execute_result"
    }
   ],
   "source": [
    "import numpy as np\n",
    "from scipy.stats import skew\n",
    "\n",
    "# Example datasets\n",
    "data_a = [1, 2, 3, 4, 5]\n",
    "data_b = [1, 2, 2, 3, 10]\n",
    "data_c = [1, 5, 5, 6, 7]\n",
    "\n",
    "# Calculate skewness\n",
    "skew_a = skew(data_a)\n",
    "skew_b = skew(data_b)\n",
    "skew_c = skew(data_c)\n",
    "\n",
    "skew_a, skew_b, skew_c\n"
   ]
  },
  {
   "cell_type": "code",
   "execution_count": 11,
   "id": "c884db52-e30a-4d38-93df-4a4c3e1cfd8c",
   "metadata": {},
   "outputs": [
    {
     "data": {
      "text/plain": [
       "0.0"
      ]
     },
     "execution_count": 11,
     "metadata": {},
     "output_type": "execute_result"
    }
   ],
   "source": [
    "skew_a #SYMMETRICAL DISTRIBUTION"
   ]
  },
  {
   "cell_type": "code",
   "execution_count": 12,
   "id": "fd463f1d-3695-44d8-8e07-46f37bb0f6e5",
   "metadata": {},
   "outputs": [
    {
     "data": {
      "text/plain": [
       "1.3608927294433224"
      ]
     },
     "execution_count": 12,
     "metadata": {},
     "output_type": "execute_result"
    }
   ],
   "source": [
    "skew_b #POSITIVELY SKEWED"
   ]
  },
  {
   "cell_type": "code",
   "execution_count": 13,
   "id": "27f870b9-61d4-4e81-ab1c-1648fce94d99",
   "metadata": {},
   "outputs": [
    {
     "data": {
      "text/plain": [
       "-1.00132372844592"
      ]
     },
     "execution_count": 13,
     "metadata": {},
     "output_type": "execute_result"
    }
   ],
   "source": [
    "skew_c #NEGATIVELY SKEWED"
   ]
  },
  {
   "cell_type": "code",
   "execution_count": 14,
   "id": "5196b168-371c-483e-a4fa-959c53fef159",
   "metadata": {},
   "outputs": [
    {
     "name": "stdout",
     "output_type": "stream",
     "text": [
      "Skewness of Dataset A: 0.0\n",
      "Skewness of Dataset B: 1.3608927294433224\n",
      "Skewness of Dataset C: -1.00132372844592\n"
     ]
    }
   ],
   "source": [
    "#OR\n",
    "print(\"Skewness of Dataset A:\", skew_a)\n",
    "print(\"Skewness of Dataset B:\", skew_b)\n",
    "print(\"Skewness of Dataset C:\", skew_c)"
   ]
  },
  {
   "cell_type": "markdown",
   "id": "5c1c4ac7-ee76-49b4-9494-3ad7e272f7da",
   "metadata": {},
   "source": [
    "**Q9. If a data is right skewed then what will be the position of median with respect to mean?**"
   ]
  },
  {
   "cell_type": "markdown",
   "id": "5b4bcfff-f250-44a9-8633-e457670c2815",
   "metadata": {},
   "source": [
    "**ANSWER**:---\n",
    "\n",
    "If data is right skewed then `Mean > Median`\n",
    "\n",
    "it means MEAN will be greater than MEDIAN"
   ]
  },
  {
   "cell_type": "markdown",
   "id": "6b70cc16-9f05-4bd2-981d-ba77149781bf",
   "metadata": {},
   "source": [
    "**Q10. Explain the difference between covariance and correlation. How are these measures used in\n",
    "statistical analysis?**"
   ]
  },
  {
   "cell_type": "markdown",
   "id": "eb5be81a-b84d-4d1e-91c9-487daedeb97f",
   "metadata": {},
   "source": [
    "**ANSWER**:--\n",
    "\n",
    "Covariance and correlation are both measures used to describe the relationship between two variables, but they differ in their scale, interpretation, and application.\n",
    "\n",
    "Covariance and correlation are both measures used to describe the relationship between two variables, but they differ in their scale, interpretation, and application.\n",
    "\n",
    "### Covariance:\n",
    "- **Definition**: Covariance measures the degree to which two variables change together. It indicates whether an increase in one variable tends to be associated with an increase or decrease in another variable.\n",
    "- **Formula**:\n",
    "  \\[\n",
    "  \\text{Cov}(X, Y) = \\frac{\\sum (X_i - \\bar{X})(Y_i - \\bar{Y})}{n-1}\n",
    "  \\]\n",
    "  where \\(X_i\\) and \\(Y_i\\) are individual data points, \\(\\bar{X}\\) and \\(\\bar{Y}\\) are the means of the variables, and \\(n\\) is the number of data points.\n",
    "- **Interpretation**:\n",
    "  - **Positive Covariance**: Indicates that the two variables tend to move in the same direction.\n",
    "  - **Negative Covariance**: Indicates that the two variables tend to move in opposite directions.\n",
    "  - **Magnitude**: The magnitude of covariance is not standardized, making it difficult to interpret the strength of the relationship.\n",
    "- **Units**: Covariance is expressed in units that are the product of the units of the two variables.\n",
    "\n",
    "### Correlation:\n",
    "- **Definition**: Correlation measures the strength and direction of the linear relationship between two variables. It is the standardized form of covariance.\n",
    "- **Formula**: The Pearson correlation coefficient (\\(r\\)) is calculated as:\n",
    "  \\[\n",
    "  r = \\frac{\\text{Cov}(X, Y)}{\\sigma_X \\sigma_Y}\n",
    "  \\]\n",
    "  where \\(\\sigma_X\\) and \\(\\sigma_Y\\) are the standard deviations of \\(X\\) and \\(Y\\), respectively.\n",
    "- **Interpretation**:\n",
    "  - **Value Range**: Correlation values range from -1 to 1.\n",
    "    - \\( r = 1 \\): Perfect positive linear relationship.\n",
    "    - \\( r = -1 \\): Perfect negative linear relationship.\n",
    "    - \\( r = 0 \\): No linear relationship.\n",
    "  - **Strength and Direction**:\n",
    "    - \\(0 < r \\leq 0.3\\): Weak positive relationship.\n",
    "    - \\(0.3 < r \\leq 0.7\\): Moderate positive relationship.\n",
    "    - \\(0.7 < r \\leq 1\\): Strong positive relationship.\n",
    "    - \\(-0.3 \\leq r < 0\\): Weak negative relationship.\n",
    "    - \\(-0.7 \\leq r < -0.3\\): Moderate negative relationship.\n",
    "    - \\(-1 \\leq r < -0.7\\): Strong negative relationship.\n",
    "- **Units**: Correlation is unitless, making it easier to compare relationships between different pairs of variables.\n",
    "\n",
    "### Usage in Statistical Analysis:\n",
    "\n",
    "- **Covariance**:\n",
    "  - **Initial Analysis**: Used in preliminary data analysis to understand the direction of the relationship between two variables.\n",
    "  - **Multivariate Data Analysis**: Forms the basis for more complex analyses such as Principal Component Analysis (PCA).\n",
    "\n",
    "- **Correlation**:\n",
    "  - **Strength and Direction**: Provides a clearer, standardized measure of the strength and direction of the relationship.\n",
    "  - **Comparative Studies**: Used to compare relationships between different pairs of variables.\n",
    "  - **Regression Analysis**: Helps in identifying variables that might have a linear relationship, which can be useful in building predictive models.\n",
    "\n",
    "### Example:\n",
    "\n",
    "Consider two datasets:\n",
    "\n",
    "\\[\n",
    "X = [1, 2, 3, 4, 5]\n",
    "\\]\n",
    "\\[\n",
    "Y = [2, 4, 6, 8, 10]\n",
    "\\]\n",
    "\n",
    "Let's calculate covariance and correlation:\n",
    "\n",
    "#### Covariance:\n",
    "\n",
    "\\[\n",
    "\\bar{X} = 3, \\quad \\bar{Y} = 6\n",
    "\\]\n",
    "\n",
    "\\[\n",
    "\\text{Cov}(X, Y) = \\frac{(1-3)(2-6) + (2-3)(4-6) + (3-3)(6-6) + (4-3)(8-6) + (5-3)(10-6)}{5-1} = \\frac{20}{4} = 5\n",
    "\\]\n",
    "\n",
    "#### Correlation:\n",
    "\n",
    "\\[\n",
    "\\sigma_X = \\sigma_Y = \\sqrt{\\frac{\\sum (X_i - \\bar{X})^2}{n-1}} = \\sqrt{\\frac{10}{4}} = \\sqrt{2.5} = 1.58\n",
    "\\]\n",
    "\n",
    "\\[\n",
    "r = \\frac{\\text{Cov}(X, Y)}{\\sigma_X \\sigma_Y} = \\frac{5}{1.58 \\times 1.58} = 1\n",
    "\\]\n"
   ]
  },
  {
   "cell_type": "markdown",
   "id": "bfea4c77-1769-4ad7-9cb5-5cee10d92064",
   "metadata": {},
   "source": [
    "**Q11. What is the formula for calculating the sample mean? Provide an example calculation for a\n",
    "dataset.**"
   ]
  },
  {
   "cell_type": "markdown",
   "id": "e28bc6c6-d975-4022-9fb9-eaaf39b79db6",
   "metadata": {},
   "source": [
    "**ANSWER**:---\n",
    "\n",
    "The formula for calculating the sample mean (\\(\\bar{x}\\)) of a dataset with \\(n\\) observations is:\n",
    "\n",
    "\\[ \\bar{x} = \\frac{1}{n} \\sum_{i=1}^{n} x_i \\]\n",
    "\n",
    "Where:\n",
    "- \\( x_i \\) represents each individual observation in the dataset.\n",
    "\n",
    "It can be read as: x bar = 1/n(summation 1 to n)xi"
   ]
  },
  {
   "cell_type": "markdown",
   "id": "f54dd1f2-53b1-4065-9850-84a4f621db77",
   "metadata": {},
   "source": [
    "**Q12. For a normal distribution data what is the relationship between its measure of central tendency?**"
   ]
  },
  {
   "cell_type": "markdown",
   "id": "d21801d8-5579-4b60-85f1-381353bffe7d",
   "metadata": {},
   "source": [
    "**ANSWER**:--\n",
    "\n",
    "For a normal distribution, which is symmetric and bell-shaped, the three measures of central tendency commonly used are the mean, median, and mode. \n",
    "\n",
    "1. **Mean (\\(\\mu\\))**: The mean of a normal distribution is the arithmetic average of all the data points. For a normal distribution, the mean is located at the center of the distribution.\n",
    "\n",
    "2. **Median**: The median of a normal distribution is also located at the center of the distribution. Because the normal distribution is symmetric, the mean and the median are equal. Therefore, in a normal distribution, \\(\\mu = \\text{median}\\).\n",
    "\n",
    "3. **Mode**: The mode of a normal distribution is the peak of the distribution, where the highest frequency of values occurs. In a normal distribution, the mode is also equal to the mean and the median. Thus, for a normal distribution, \\(\\mu = \\text{median} = \\text{mode}\\).\n",
    "\n",
    "MEAN=MEDIAN=MODE"
   ]
  },
  {
   "cell_type": "markdown",
   "id": "74fbe346-9ee7-4213-ba24-efd36b351988",
   "metadata": {},
   "source": [
    "**Q13. How is covariance different from correlation?**"
   ]
  },
  {
   "cell_type": "markdown",
   "id": "dedefffe-07be-499a-b19b-4fff81f931af",
   "metadata": {},
   "source": [
    "**ANSWER**:---\n",
    "\n",
    "Covariance and correlation are both measures that describe the relationship between two variables, but they have distinct interpretations and scales:\n",
    "\n",
    "1. **Covariance**:\n",
    "   - **Definition**: Covariance measures the degree to which two variables change together. It indicates the direction of the linear relationship between two variables (positive, negative, or no relationship).\n",
    "   - **Formula**: For two variables \\( X \\) and \\( Y \\) with sample size \\( n \\),\n",
    "     \\[ \\text{Cov}(X, Y) = \\frac{1}{n} \\sum_{i=1}^{n} (x_i - \\bar{x})(y_i - \\bar{y}) \\]\n",
    "     where \\( x_i \\) and \\( y_i \\) are individual observations, and \\( \\bar{x} \\) and \\( \\bar{y} \\) are the means of \\( X \\) and \\( Y \\), respectively.\n",
    "   - **Units**: Covariance is in the units of the product of the units of \\( X \\) and \\( Y \\) (e.g., square units if \\( X \\) and \\( Y \\) are lengths).\n",
    "   - **Interpretation**: A positive covariance indicates that higher values of \\( X \\) correspond to higher values of \\( Y \\), and vice versa for negative covariance. Zero covariance suggests no linear relationship.\n",
    "\n",
    "2. **Correlation**:\n",
    "   - **Definition**: Correlation measures the strength and direction of the linear relationship between two variables. It standardizes covariance by dividing it by the product of the standard deviations of \\( X \\) and \\( Y \\), giving a scale-free measure between -1 and 1.\n",
    "   - **Formula**: The correlation coefficient \\( \\rho \\) (Pearson correlation) between \\( X \\) and \\( Y \\) is given by:\n",
    "     \\[ \\rho_{X,Y} = \\frac{\\text{Cov}(X,Y)}{\\sigma_X \\sigma_Y} \\]\n",
    "     where \\( \\sigma_X \\) and \\( \\sigma_Y \\) are the standard deviations of \\( X \\) and \\( Y \\), respectively.\n",
    "   - **Scale**: Correlation coefficients range from -1 (perfect negative correlation) to 1 (perfect positive correlation), with 0 indicating no linear correlation.\n",
    "   - **Interpretation**: Correlation quantifies the strength and direction of the linear relationship, making it easier to compare relationships across different pairs of variables regardless of their units.\n",
    "\n",
    "**Key Differences**:\n",
    "- **Scale**: Covariance is not standardized and depends on the units of the variables, whereas correlation is standardized and ranges between -1 and 1.\n",
    "- **Interpretation**: Covariance indicates the direction of the linear relationship (positive or negative), while correlation quantifies the strength and direction of the linear relationship.\n",
    "- **Magnitude**: Correlation is a more interpretable measure for comparing the relationships between different pairs of variables, as it is not affected by the scale of the variables.\n"
   ]
  },
  {
   "cell_type": "markdown",
   "id": "b1f97cba-abaf-49cf-b96f-b5247d427656",
   "metadata": {},
   "source": [
    "**Q14. How do outliers affect measures of central tendency and dispersion? Provide an example.**"
   ]
  },
  {
   "cell_type": "code",
   "execution_count": null,
   "id": "9ce08597-0452-4052-824e-39e9c01301a4",
   "metadata": {},
   "outputs": [],
   "source": []
  },
  {
   "cell_type": "code",
   "execution_count": null,
   "id": "f538ef83-4a3a-40eb-84c0-4871f46774ba",
   "metadata": {},
   "outputs": [],
   "source": []
  },
  {
   "cell_type": "code",
   "execution_count": null,
   "id": "3096c0b1-25b1-41ac-8591-86666bcf48d3",
   "metadata": {},
   "outputs": [],
   "source": []
  }
 ],
 "metadata": {
  "kernelspec": {
   "display_name": "Python 3 (ipykernel)",
   "language": "python",
   "name": "python3"
  },
  "language_info": {
   "codemirror_mode": {
    "name": "ipython",
    "version": 3
   },
   "file_extension": ".py",
   "mimetype": "text/x-python",
   "name": "python",
   "nbconvert_exporter": "python",
   "pygments_lexer": "ipython3",
   "version": "3.10.8"
  }
 },
 "nbformat": 4,
 "nbformat_minor": 5
}
